{
 "cells": [
  {
   "cell_type": "markdown",
   "id": "b760229b-5fd9-45d8-8b5d-c1f34c652030",
   "metadata": {},
   "source": [
    "## Math Tools\n",
    "This notebook is a collection of linear algebra/differential equations functions/solvers that I implemented as a personal challenge. After completing a linear algebra course during the Spring 2025 semester, I decided to reinforce what I learned by translating what I learned in the LA/Diff. Eq. course into Python.\n",
    "\n",
    "Each section includes a mathematical summary, followed by a coded implementation and example usage.\n",
    "\n",
    "This project is meant to reflect my growth in both mathematics and programming, and to serve as a foundation for my future work in data science, engineering, and machine learning."
   ]
  },
  {
   "cell_type": "code",
   "execution_count": 2,
   "id": "09c99973-f248-44a0-ab9c-421dc24cfad0",
   "metadata": {},
   "outputs": [],
   "source": [
    "from sympy import symbols, sympify\n",
    "import matplotlib.pyplot as plt\n",
    "import numpy as np\n",
    "from sympy import solve, Eq, Matrix, symbols, det, exp, I"
   ]
  },
  {
   "cell_type": "markdown",
   "id": "44870100-e7c4-4c22-a8e0-5dc627e2a23d",
   "metadata": {},
   "source": [
    "<h3>Forward Euler Method (FEM)</h3>"
   ]
  },
  {
   "cell_type": "markdown",
   "id": "2e69abdd-eaec-4442-af21-56fd6dc44e1b",
   "metadata": {},
   "source": [
    "Forward Euler Method, or more commonly known as Euler's Method, is an algorithm used to approximate solutions to ordinary differential equations (ODEs)."
   ]
  },
  {
   "cell_type": "code",
   "execution_count": 6,
   "id": "7883e09e-a605-45ef-ab4f-3d147b16b0dc",
   "metadata": {},
   "outputs": [],
   "source": [
    "def function_cleanse(f):\n",
    "    \"\"\"\n",
    "    RETURNS THE ODE\n",
    "    JUST WITH X TERMS\n",
    "    f : Function in terms of y and x (string)\n",
    "    RETURNS A SYMPIFY FORMULA \n",
    "    \"\"\"\n",
    "    x = symbols(\"x\")\n",
    "    y = symbols(\"y\")\n",
    "    if \"=\" in f:\n",
    "        if \"dy/dx\" not in f:\n",
    "            raise SyntaxError(\"Incorrect function syntax!\")\n",
    "        else:\n",
    "            pass\n",
    "    f = sympify([x for x in f.split(\"=\") if \"d\" not in x][0]) \n",
    "    return f\n",
    "    \n",
    "def forward_eulers_method(f, d, start_y, start_x, end_x):\n",
    "    \"\"\"\n",
    "    forward_eulers_method : Forward Euler's Method\n",
    "    APPROXIMATES THE VALUE OF A\n",
    "    FUNCTION (SOLUTION TO AN ODE) AT A POINT\n",
    "    REQUIRES FROM SYMPY IMPORT SYMBOLS, SYMPIFY\n",
    "    f : ODE in terms of y and x (string)\n",
    "    d : Step size (scalar)\n",
    "    start_y : Starting y-value (scalar)\n",
    "    start_x : Starting x-value (scalar)\n",
    "    end_x : Desired x-value (scalar)\n",
    "    RETURNS A FLOAT\n",
    "    \"\"\"\n",
    "    if not ((end_x-start_x)/d).is_integer():\n",
    "        raise ValueError(\"The step size is incompatiable! Try again with a different step size (d)!\")\n",
    "    iters = int((end_x-start_x)/d)\n",
    "    f = function_cleanse(f)\n",
    "    x = symbols(\"x\")\n",
    "    y = symbols(\"y\")\n",
    "    x_val = 0\n",
    "    y_n = 0\n",
    "    history_dict = {}\n",
    "    for i in range(iters):\n",
    "        if i == 0:\n",
    "            y_n = start_y\n",
    "            history_dict[i] = y_n\n",
    "            x_val = start_x\n",
    "            dfdx = f.subs(x, x_val).subs(y,y_n).evalf()\n",
    "            y_n1 = y_n + (d*dfdx)\n",
    "            x_val += d\n",
    "            y_n = y_n1\n",
    "            history_dict[i+1] = y_n\n",
    "        else:\n",
    "            dfdx = f.subs(x, x_val).subs(y,y_n).evalf()\n",
    "            y_n1 = y_n + (d*dfdx)\n",
    "            x_val += d\n",
    "            y_n = y_n1\n",
    "            history_dict[i+1] = y_n\n",
    "    \n",
    "    print(f\"Forward Euler's Method with the function: {f}\\n\"\n",
    "          f\"Initial x-value: {start_x}\\n\"\n",
    "          f\"Initial y-value: {start_y}\\n\"\n",
    "          f\"Step size: {d}\\n\"\n",
    "          f\"The value of y at {end_x} is approximately {y_n:.10f}\")\n",
    "\n",
    "    return y_n, history_dict\n",
    "    \n",
    "            \n",
    "    "
   ]
  },
  {
   "cell_type": "code",
   "execution_count": 7,
   "id": "beb70e32-46b3-41cd-b97b-7193080a1977",
   "metadata": {},
   "outputs": [
    {
     "name": "stdout",
     "output_type": "stream",
     "text": [
      "Forward Euler's Method with the function: x*y\n",
      "Initial x-value: 0\n",
      "Initial y-value: 1\n",
      "Step size: 0.0001\n",
      "The value of y at 1 is approximately 1.6486113651\n"
     ]
    }
   ],
   "source": [
    "result = forward_eulers_method(\"y*x\", .0001, 1, 0, 1)"
   ]
  },
  {
   "cell_type": "code",
   "execution_count": 8,
   "id": "60e4e3cf-6140-4247-8f4f-aa4394f5874d",
   "metadata": {},
   "outputs": [
    {
     "data": {
      "image/png": "[encoded data removed]",
      "text/plain": [
       "<Figure size 640x480 with 1 Axes>"
      ]
     },
     "metadata": {},
     "output_type": "display_data"
    }
   ],
   "source": [
    "# Plot of Forward Euler Method v.s. Number of Iterations\n",
    "ind_var = list(result[1].keys())\n",
    "dep_var = list(result[1].values())\n",
    "fig, ax = plt.subplots()\n",
    "ax.plot(ind_var,dep_var, marker = \"o\", color = \"green\")\n",
    "ax.set_title(\"FEM Approximation v.s. Number of Iterations\")\n",
    "ax.set_xlabel(\"Number of Iterations\")\n",
    "ax.set_ylabel(\"FEM Approximation Value\")\n",
    "plt.show()"
   ]
  },
  {
   "cell_type": "markdown",
   "id": "385c1756-405d-4ceb-928a-8c104378d6fd",
   "metadata": {},
   "source": [
    "<h3>RK2 Method</h3>"
   ]
  },
  {
   "cell_type": "markdown",
   "id": "5a4f4d3d-d985-4d63-8e9f-95b82a5c5861",
   "metadata": {},
   "source": [
    "The Runge-Kutta 2nd Order Method (a.k.a RK2) is another algorithm for approximating solutions to ODEs. RK2 combines both Forward Euler Method and Backward Euler Method (implicitly through approximation), allowing for a more accurate solution approximation."
   ]
  },
  {
   "cell_type": "code",
   "execution_count": 9,
   "id": "a8dd8dbc-978f-4ef3-af74-34bb80a7dd14",
   "metadata": {},
   "outputs": [],
   "source": [
    "def rk2(f, d, start_y, start_x, end_x):\n",
    "    \"\"\"\n",
    "    rk2 : Runge-Kutta 2nd Order Method\n",
    "    APPROXIMATES THE VALUE OF A\n",
    "    FUNCTION (SOLUTION TO AN ODE) AT A POINT\n",
    "    REQUIRES FROM SYMPY IMPORT SYMBOLS, SYMPIFY\n",
    "    f : ODE in terms of y and x (string)\n",
    "    d : Step size (scalar)\n",
    "    start_y : Starting y-value (scalar)\n",
    "    start_x : Starting x-value (scalar)\n",
    "    end_x : Desired x-value (scalar)\n",
    "    RETURNS A FLOAT\n",
    "    \"\"\"\n",
    "    if not ((end_x-start_x)/d).is_integer():\n",
    "        raise ValueError(\"The step size is incompatiable! Try again with a different step size (d)!\")\n",
    "    iters = int((end_x-start_x) / d)\n",
    "    f = function_cleanse(f)\n",
    "    x = symbols(\"x\")\n",
    "    y = symbols(\"y\")\n",
    "    \n",
    "    for i in range(iters):\n",
    "        if i == 0:\n",
    "            y_n = start_y\n",
    "            x_val = start_x\n",
    "            k1 = f.subs(x, x_val).subs(y, y_n).evalf()\n",
    "            k2 = f.subs(y, y_n + (d*k1)).subs(x, x_val + d).evalf()\n",
    "            y_n1 = y_n + (.5 * d * (k1 + k2))\n",
    "            x_val += d\n",
    "            y_n = y_n1\n",
    "        else:\n",
    "            k1 = f.subs(x, x_val).subs(y, y_n).evalf()\n",
    "            k2 = f.subs(y, y_n + (d*k1)).subs(x, x_val + d).evalf()\n",
    "            y_n1 = y_n + (.5 * d * (k1 + k2))\n",
    "            x_val += d\n",
    "            y_n = y_n1\n",
    "\n",
    "    print(f\"Runge-Kutta 2nd Order Method with the function: {f}\\n\"\n",
    "          f\"Initial x-value: {start_x}\\n\"\n",
    "          f\"Initial y-value: {start_y}\\n\"\n",
    "          f\"Step size: {d}\\n\"\n",
    "          f\"The value of y at {end_x} is approximately {y_n:.10f}\")\n",
    "    \n",
    "    return y_n"
   ]
  },
  {
   "cell_type": "code",
   "execution_count": 10,
   "id": "9ace7416-a59b-4ab4-8c45-37ccb7d6cadc",
   "metadata": {},
   "outputs": [
    {
     "name": "stdout",
     "output_type": "stream",
     "text": [
      "Runge-Kutta 2nd Order Method with the function: x*y\n",
      "Initial x-value: 0\n",
      "Initial y-value: 1\n",
      "Step size: 0.0001\n",
      "The value of y at 1 is approximately 1.6487212700\n"
     ]
    }
   ],
   "source": [
    "result = rk2(\"dy/dx=y*x\", .0001, 1, 0, 1)"
   ]
  },
  {
   "cell_type": "markdown",
   "id": "5b657d57-2117-49b8-b21c-1ed47267b3d6",
   "metadata": {},
   "source": [
    "<h3>Determinant Solver</h3>"
   ]
  },
  {
   "cell_type": "markdown",
   "id": "bb2f1603-b68f-4657-91f6-5487b29291cc",
   "metadata": {},
   "source": [
    "In Linear Algebra and many other applications, the determinant of a square matrix is an important concept that describes various matrix properties (e.g. invertibility, rank, linear independence, scaling, etc.)."
   ]
  },
  {
   "cell_type": "code",
   "execution_count": 14,
   "id": "5cafe451-b33d-400a-92ce-d29c29f46769",
   "metadata": {},
   "outputs": [],
   "source": [
    "def determinant(array):\n",
    "    \"\"\"\n",
    "    FINDS THE DETERMINANT OF\n",
    "    A 2D ARRAY\n",
    "    REQUIRES NUMPY AS NP\n",
    "    USES 1ST ROW COFACTOR EXPANSION\n",
    "    array : a 2D array (matrix)\n",
    "    RETURNS A FLOAT\n",
    "    \"\"\"\n",
    "    r,c = array.shape\n",
    "    if not r == c:\n",
    "        raise ValueError(\"Not a square matrix! Determinant is not defined!\") \n",
    "    detr = 0\n",
    "    if r >= 3:\n",
    "        for j in range(c):\n",
    "            if j % 2 == 0:\n",
    "                a = array[0][j]\n",
    "            else:\n",
    "                a = -1 * array[0][j]\n",
    "            sm = np.delete(array, 0, axis=0)\n",
    "            sm = np.delete(sm, j, axis=1)\n",
    "            detr += determinant(sm) * a\n",
    "            \n",
    "        \n",
    "    else:\n",
    "        detr += (array[0][0] * array[1][1] - array[0][1] * array[1][0])\n",
    "\n",
    "    return detr"
   ]
  },
  {
   "cell_type": "code",
   "execution_count": 15,
   "id": "b6a2380b-64b7-4962-940e-fcdd4d0ce94d",
   "metadata": {},
   "outputs": [
    {
     "name": "stdout",
     "output_type": "stream",
     "text": [
      "-0.08430322114252414\n",
      "-0.08430322114252418\n"
     ]
    }
   ],
   "source": [
    "# Function test: function v.s. built-in NumPy function\n",
    "a = np.array([[0.548813, 0.71518937, 0.60276338],\n",
    " [0.54488318, 0.4236548,  0.64589411],\n",
    " [0.43758721, 0.891773, 0.96366276]])\n",
    "x = determinant(a)\n",
    "y = np.linalg.det(a)\n",
    "print(x)\n",
    "print(y)"
   ]
  },
  {
   "cell_type": "code",
   "execution_count": 16,
   "id": "5391e5bd-dcf8-4984-87db-26167fb7b79e",
   "metadata": {},
   "outputs": [],
   "source": [
    "def determinant_any_row(array, row):\n",
    "    \"\"\"\n",
    "    FINDS THE DETERMINANT OF\n",
    "    A 2D ARRAY\n",
    "    USES ith ROW COFACTOR EXPANSION\n",
    "    REQUIRES NUMPY AS NP\n",
    "    array : a 2D array (matrix)\n",
    "    row* : desired row (scalar)\n",
    "    RETURNS A FLOAT\n",
    "    \n",
    "    *Uses Linear Algebra indexing\n",
    "    for rows (starting from 1)\n",
    "    \n",
    "    \"\"\"\n",
    "    r,c = array.shape\n",
    "    if not r == c:\n",
    "        raise ValueError(\"Not a square matrix! Determinant is not defined!\")\n",
    "    if not row in range(1, r+1):\n",
    "        raise ValueError(\"Row value is does not reflect the number of rows in the matrix!\")\n",
    "    detr = 0\n",
    "    if r >= 3:\n",
    "        for j in range(c):\n",
    "            if (j + (row-1)) % 2 == 0:\n",
    "                a = array[row-1][j]\n",
    "            else:\n",
    "                a = -1 * array[row-1][j]\n",
    "            sm = np.delete(array, row-1, axis=0)\n",
    "            sm = np.delete(sm, j, axis=1)\n",
    "            detr += determinant(sm) * a\n",
    "            \n",
    "        \n",
    "    else:\n",
    "        detr += (array[0][0] * array[1][1] - array[0][1] * array[1][0])\n",
    "\n",
    "    return detr"
   ]
  },
  {
   "cell_type": "code",
   "execution_count": 17,
   "id": "abdfbc7f-685d-40b6-9b1a-db9fe9363d20",
   "metadata": {},
   "outputs": [
    {
     "name": "stdout",
     "output_type": "stream",
     "text": [
      "-0.00010345992074035134\n",
      "-0.0001034599207403602\n"
     ]
    }
   ],
   "source": [
    "# Function test: function v.s. built-in NumPy function\n",
    "matrix_5x5 = np.array([[0.37454012, 0.95071431, 0.73199394, 0.59865848, 0.15601864],\n",
    " [0.15599452, 0.05808361, 0.86617615, 0.60111501, 0.70807258],\n",
    " [0.02058449, 0.96990985, 0.83244264, 0.21233911, 0.18182497],\n",
    " [0.18340451, 0.30424224, 0.52475643, 0.43194502, 0.29122914],\n",
    " [0.61185289, 0.13949386, 0.29214465, 0.36636184, 0.45606998]])\n",
    "x = determinant_any_row(matrix_5x5, 5)\n",
    "y = np.linalg.det(matrix_5x5)\n",
    "print(x)\n",
    "print(y)"
   ]
  },
  {
   "cell_type": "markdown",
   "id": "8a72af8b-7c93-4fba-8408-cc80bc9824f4",
   "metadata": {},
   "source": [
    "<h3>Linear System Solver</h3>"
   ]
  },
  {
   "cell_type": "markdown",
   "id": "c93ff3b2-b825-469d-963f-6838927e9d2f",
   "metadata": {},
   "source": [
    "A general, linear, 2nd order or greater ODE can be written as a system of 1st order equations. This function takes a 2nd order, homogenous ODE (Ax = x') and splits the ODE into 2, 1st order equations where the homogeneous solution x_h is returned."
   ]
  },
  {
   "cell_type": "code",
   "execution_count": 18,
   "id": "11966ae4-151f-4d44-bfda-a2ac3d26648f",
   "metadata": {},
   "outputs": [],
   "source": [
    "def linear_system_solver_2x2(A):\n",
    "    \"\"\"\n",
    "    linear_system_solver_2x2 : Linear System Solver\n",
    "    FINDS THE VECTOR X THAT SOLVES\n",
    "    THE GENERAL EQUATION AX = X'\n",
    "    REQUIRES NUMPY AS NP,\n",
    "    FROM SYMPY IMPORT SOLVE, EQ,\n",
    "    MATRIX, SYMBOLS, DET, EXP I\n",
    "    A : 2x2 matrix (array)\n",
    "    RETURNS A DICTIONARY\n",
    "    DESCRIBING X1 and X2\n",
    "    WHERE XH = X1 + X2,\n",
    "    PRINTS XH\n",
    "    \"\"\"\n",
    "    r, c = A.shape\n",
    "    if not r == c == 2:\n",
    "        raise ValueError(\"Input is not a 2 x 2 matrix!\")\n",
    "    \n",
    "    λ = symbols(\"λ\")\n",
    "    t = symbols(\"t\")\n",
    "    c1 = symbols(\"c1\")\n",
    "    c2 = symbols(\"c2\")\n",
    "\n",
    "    \n",
    "    A = Matrix(A)\n",
    "    I_matrix = Matrix.eye(r)\n",
    "    A_minus_lambda_I = A - (λ * I_matrix)\n",
    "    detr = A_minus_lambda_I.det()\n",
    "    eq = Eq(detr, 0)\n",
    "    λ = solve(eq)\n",
    "    \n",
    "    if len(λ) == 2:\n",
    "        vectors = np.empty((0,2), dtype=float)\n",
    "        for val in λ:\n",
    "            v1 = symbols(\"v1\")\n",
    "            v2 = symbols(\"v2\")\n",
    "    \n",
    "            m = A - (val * I_matrix)\n",
    "            eq = ((m[0,0] * v1) + (m[0,1] * v2)).subs(v1,1)\n",
    "            v2 = solve(Eq(eq, 0))[0]\n",
    "            v = np.array([1, v2])\n",
    "            vectors = np.vstack([vectors, v])\n",
    "    \n",
    "        x_h = {\"x1\": list(c1 * vectors[0] * exp(λ[0] * t)) , \"x2\": list(c2 * vectors[1] * exp(λ[1] * t))}\n",
    "        print(\"The homogeneous solution to the equation Ax = x' is:\")\n",
    "        print(f\"x_h = c1 * {vectors[0]} * {exp(λ[0] * t)} + c2 * {vectors[1]} * {exp(λ[1] * t)}\")\n",
    "        \n",
    "        return x_h\n",
    "        \n",
    "    else:\n",
    "        vectors = np.empty((0,2), dtype=float)\n",
    "        val = λ[0]\n",
    "        v1 = symbols(\"v1\")\n",
    "        v2 = symbols(\"v2\")\n",
    "        w1 = symbols(\"w1\")\n",
    "        w2 = symbols(\"w2\")\n",
    "    \n",
    "        m = A - (val * I_matrix)\n",
    "        eq = ((m[0,0] * v1) + (m[0,1] * v2)).subs(v1,1)\n",
    "        v2 = solve(Eq(eq, 0))[0]\n",
    "        v = np.array([1, v2])\n",
    "        vectors = np.vstack([vectors, v])\n",
    "\n",
    "        w = solve(Eq(((m[0,0] * w1) + (m[0,1] * w2)).subs(w1,1),v[0]))[0]\n",
    "        w = np.array([1, w])\n",
    "        vectors = np.vstack([vectors, w])\n",
    "\n",
    "        x_h = {\"x1\": list(c1 * vectors[0] * exp(λ[0] * t)) , \"x2\": list(c2 * (t * vectors[0] * exp(λ[0] * t) + vectors[1] * exp(λ[0] * t)))}\n",
    "        print(\"The homogeneous solution to the equation Ax = x' is:\")\n",
    "        print(f\"x_h = (c1 * {vectors[0]} * {exp(λ[0] * t)}) + c2(t * {vectors[0]} * {exp(λ[0] * t)} + {vectors[1]} * {exp(λ[0] * t)})\")\n",
    "\n",
    "        return x_h\n",
    "    \n"
   ]
  },
  {
   "cell_type": "code",
   "execution_count": 19,
   "id": "81939094-3ff1-44a8-a551-7567d6467dab",
   "metadata": {},
   "outputs": [
    {
     "name": "stdout",
     "output_type": "stream",
     "text": [
      "The homogeneous solution to the equation Ax = x' is:\n",
      "x_h = c1 * [1 I] * exp(-I*t) + c2 * [1 -I] * exp(I*t)\n"
     ]
    }
   ],
   "source": [
    "# Function test\n",
    "result = linear_system_solver_2x2(np.array([[0,-1],[1,0]]))"
   ]
  }
 ],
 "metadata": {
  "kernelspec": {
   "display_name": "Python 3 (ipykernel)",
   "language": "python",
   "name": "python3"
  },
  "language_info": {
   "codemirror_mode": {
    "name": "ipython",
    "version": 3
   },
   "file_extension": ".py",
   "mimetype": "text/x-python",
   "name": "python",
   "nbconvert_exporter": "python",
   "pygments_lexer": "ipython3",
   "version": "3.10.12"
  }
 },
 "nbformat": 4,
 "nbformat_minor": 5
}
